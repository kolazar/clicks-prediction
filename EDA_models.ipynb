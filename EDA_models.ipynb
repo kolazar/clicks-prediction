{
 "cells": [
  {
   "cell_type": "markdown",
   "source": "__Explanation of the dataset__\n\nVariables:\nORDER: Sequence of clicks during one session\n\nCOUNTRY: \n1-Australia\n2-Austria\n3-Belgium\n4-British Virgin Islands\n5-Cayman Islands\n6-Christmas Island\n7-Croatia\n8-Cyprus\n9-Czech Republic\n10-Denmark\n11-Estonia\n12-unidentified\n13-Faroe Islands\n14-Finland\n15-France\n16-Germany\n17-Greece\n18-Hungary\n19-Iceland\n20-India\n21-Ireland\n22-Italy\n23-Latvia\n24-Lithuania\n25-Luxembourg\n26-Mexico\n27-Netherlands\n28-Norway\n29-Poland\n30-Portugal\n31-Romania\n32-Russia\n33-San Marino\n34-Slovakia\n35-Slovenia\n36-Spain\n37-Sweden\n38-Switzerland\n39-Ukraine\n40-United Arab Emirates\n41-United Kingdom\n42-USA\n43-biz (.biz) 44-com (.com)\n45-int (.int) 46-net (.net)\n47-org (*.org)\n\nSESSION ID: variable indicating session id (short record)\n\nPAGE 1 (MAIN CATEGORY) -> concerns the main product category:\n1-trousers\n2-skirts\n3-blouses\n4-sale\n\nPAGE 2 (CLOTHING MODEL) -> contains information about the code for each product\n(217 products)\n\nCOLOUR -> colour of product\n1-beige\n2-black\n3-blue\n4-brown\n5-burgundy\n6-gray\n7-green\n8-navy blue\n9-of many colors\n10-olive\n11-pink\n12-red\n13-violet\n14-white\n\nLOCATION -> photo location on the page, the screen has been divided into six parts:\n1-top left\n2-top in the middle\n3-top right\n4-bottom left\n5-bottom in the middle\n6-bottom right\n\nMODEL PHOTOGRAPHY -> variable with two categories:\n1-en face\n2-profile\n\nPRICE -> price in US dollars\n\nPRICE 2 -> variable informing whether the price of a particular product is higher than\nthe average price for the entire product category\n1-yes\n2-no\n",
   "metadata": {
    "tags": [],
    "cell_id": "00000-fc57a70f-8b8e-4087-805f-c08f0a48e695",
    "deepnote_cell_type": "markdown"
   }
  },
  {
   "cell_type": "code",
   "metadata": {
    "tags": [],
    "cell_id": "00001-a55655ba-c4f1-43e7-870c-d7a389a13628",
    "deepnote_to_be_reexecuted": false,
    "source_hash": "cd67b128",
    "execution_start": 1638719680075,
    "execution_millis": 1151,
    "deepnote_cell_type": "code"
   },
   "source": "import pandas as pd\nimport numpy as nu\nimport seaborn as sns\nimport matplotlib.pyplot as plt\n%matplotlib inline\n\n\ndf = pd.read_csv('clicks.csv', sep =\";\")\ndf.head()",
   "execution_count": null,
   "outputs": [
    {
     "output_type": "execute_result",
     "execution_count": 1,
     "data": {
      "application/vnd.deepnote.dataframe.v2+json": {
       "row_count": 5,
       "column_count": 14,
       "columns": [
        {
         "name": "year",
         "dtype": "int64",
         "stats": {
          "unique_count": 1,
          "nan_count": 0,
          "min": "2020",
          "max": "2020",
          "histogram": [
           {
            "bin_start": 2019.5,
            "bin_end": 2019.6,
            "count": 0
           },
           {
            "bin_start": 2019.6,
            "bin_end": 2019.7,
            "count": 0
           },
           {
            "bin_start": 2019.7,
            "bin_end": 2019.8,
            "count": 0
           },
           {
            "bin_start": 2019.8,
            "bin_end": 2019.9,
            "count": 0
           },
           {
            "bin_start": 2019.9,
            "bin_end": 2020,
            "count": 0
           },
           {
            "bin_start": 2020,
            "bin_end": 2020.1,
            "count": 5
           },
           {
            "bin_start": 2020.1,
            "bin_end": 2020.2,
            "count": 0
           },
           {
            "bin_start": 2020.2,
            "bin_end": 2020.3,
            "count": 0
           },
           {
            "bin_start": 2020.3,
            "bin_end": 2020.4,
            "count": 0
           },
           {
            "bin_start": 2020.4,
            "bin_end": 2020.5,
            "count": 0
           }
          ]
         }
        },
        {
         "name": "month",
         "dtype": "int64",
         "stats": {
          "unique_count": 1,
          "nan_count": 0,
          "min": "4",
          "max": "4",
          "histogram": [
           {
            "bin_start": 3.5,
            "bin_end": 3.6,
            "count": 0
           },
           {
            "bin_start": 3.6,
            "bin_end": 3.7,
            "count": 0
           },
           {
            "bin_start": 3.7,
            "bin_end": 3.8,
            "count": 0
           },
           {
            "bin_start": 3.8,
            "bin_end": 3.9,
            "count": 0
           },
           {
            "bin_start": 3.9,
            "bin_end": 4,
            "count": 0
           },
           {
            "bin_start": 4,
            "bin_end": 4.1,
            "count": 5
           },
           {
            "bin_start": 4.1,
            "bin_end": 4.2,
            "count": 0
           },
           {
            "bin_start": 4.2,
            "bin_end": 4.3,
            "count": 0
           },
           {
            "bin_start": 4.3,
            "bin_end": 4.4,
            "count": 0
           },
           {
            "bin_start": 4.4,
            "bin_end": 4.5,
            "count": 0
           }
          ]
         }
        },
        {
         "name": "day",
         "dtype": "int64",
         "stats": {
          "unique_count": 1,
          "nan_count": 0,
          "min": "1",
          "max": "1",
          "histogram": [
           {
            "bin_start": 0.5,
            "bin_end": 0.6,
            "count": 0
           },
           {
            "bin_start": 0.6,
            "bin_end": 0.7,
            "count": 0
           },
           {
            "bin_start": 0.7,
            "bin_end": 0.8,
            "count": 0
           },
           {
            "bin_start": 0.8,
            "bin_end": 0.9,
            "count": 0
           },
           {
            "bin_start": 0.9,
            "bin_end": 1,
            "count": 0
           },
           {
            "bin_start": 1,
            "bin_end": 1.1,
            "count": 5
           },
           {
            "bin_start": 1.1,
            "bin_end": 1.2000000000000002,
            "count": 0
           },
           {
            "bin_start": 1.2000000000000002,
            "bin_end": 1.3,
            "count": 0
           },
           {
            "bin_start": 1.3,
            "bin_end": 1.4,
            "count": 0
           },
           {
            "bin_start": 1.4,
            "bin_end": 1.5,
            "count": 0
           }
          ]
         }
        },
        {
         "name": "order",
         "dtype": "int64",
         "stats": {
          "unique_count": 5,
          "nan_count": 0,
          "min": "1",
          "max": "5",
          "histogram": [
           {
            "bin_start": 1,
            "bin_end": 1.4,
            "count": 1
           },
           {
            "bin_start": 1.4,
            "bin_end": 1.8,
            "count": 0
           },
           {
            "bin_start": 1.8,
            "bin_end": 2.2,
            "count": 1
           },
           {
            "bin_start": 2.2,
            "bin_end": 2.6,
            "count": 0
           },
           {
            "bin_start": 2.6,
            "bin_end": 3,
            "count": 0
           },
           {
            "bin_start": 3,
            "bin_end": 3.4000000000000004,
            "count": 1
           },
           {
            "bin_start": 3.4000000000000004,
            "bin_end": 3.8000000000000003,
            "count": 0
           },
           {
            "bin_start": 3.8000000000000003,
            "bin_end": 4.2,
            "count": 1
           },
           {
            "bin_start": 4.2,
            "bin_end": 4.6,
            "count": 0
           },
           {
            "bin_start": 4.6,
            "bin_end": 5,
            "count": 1
           }
          ]
         }
        },
        {
         "name": "country",
         "dtype": "int64",
         "stats": {
          "unique_count": 1,
          "nan_count": 0,
          "min": "29",
          "max": "29",
          "histogram": [
           {
            "bin_start": 28.5,
            "bin_end": 28.6,
            "count": 0
           },
           {
            "bin_start": 28.6,
            "bin_end": 28.7,
            "count": 0
           },
           {
            "bin_start": 28.7,
            "bin_end": 28.8,
            "count": 0
           },
           {
            "bin_start": 28.8,
            "bin_end": 28.9,
            "count": 0
           },
           {
            "bin_start": 28.9,
            "bin_end": 29,
            "count": 0
           },
           {
            "bin_start": 29,
            "bin_end": 29.1,
            "count": 5
           },
           {
            "bin_start": 29.1,
            "bin_end": 29.2,
            "count": 0
           },
           {
            "bin_start": 29.2,
            "bin_end": 29.3,
            "count": 0
           },
           {
            "bin_start": 29.3,
            "bin_end": 29.4,
            "count": 0
           },
           {
            "bin_start": 29.4,
            "bin_end": 29.5,
            "count": 0
           }
          ]
         }
        },
        {
         "name": "session ID",
         "dtype": "int64",
         "stats": {
          "unique_count": 1,
          "nan_count": 0,
          "min": "1",
          "max": "1",
          "histogram": [
           {
            "bin_start": 0.5,
            "bin_end": 0.6,
            "count": 0
           },
           {
            "bin_start": 0.6,
            "bin_end": 0.7,
            "count": 0
           },
           {
            "bin_start": 0.7,
            "bin_end": 0.8,
            "count": 0
           },
           {
            "bin_start": 0.8,
            "bin_end": 0.9,
            "count": 0
           },
           {
            "bin_start": 0.9,
            "bin_end": 1,
            "count": 0
           },
           {
            "bin_start": 1,
            "bin_end": 1.1,
            "count": 5
           },
           {
            "bin_start": 1.1,
            "bin_end": 1.2000000000000002,
            "count": 0
           },
           {
            "bin_start": 1.2000000000000002,
            "bin_end": 1.3,
            "count": 0
           },
           {
            "bin_start": 1.3,
            "bin_end": 1.4,
            "count": 0
           },
           {
            "bin_start": 1.4,
            "bin_end": 1.5,
            "count": 0
           }
          ]
         }
        },
        {
         "name": "page 1 (main category)",
         "dtype": "int64",
         "stats": {
          "unique_count": 2,
          "nan_count": 0,
          "min": "1",
          "max": "2",
          "histogram": [
           {
            "bin_start": 1,
            "bin_end": 1.1,
            "count": 2
           },
           {
            "bin_start": 1.1,
            "bin_end": 1.2,
            "count": 0
           },
           {
            "bin_start": 1.2,
            "bin_end": 1.3,
            "count": 0
           },
           {
            "bin_start": 1.3,
            "bin_end": 1.4,
            "count": 0
           },
           {
            "bin_start": 1.4,
            "bin_end": 1.5,
            "count": 0
           },
           {
            "bin_start": 1.5,
            "bin_end": 1.6,
            "count": 0
           },
           {
            "bin_start": 1.6,
            "bin_end": 1.7000000000000002,
            "count": 0
           },
           {
            "bin_start": 1.7000000000000002,
            "bin_end": 1.8,
            "count": 0
           },
           {
            "bin_start": 1.8,
            "bin_end": 1.9,
            "count": 0
           },
           {
            "bin_start": 1.9,
            "bin_end": 2,
            "count": 3
           }
          ]
         }
        },
        {
         "name": "page 2 (clothing model)",
         "dtype": "object",
         "stats": {
          "unique_count": 5,
          "nan_count": 0,
          "categories": [
           {
            "name": "A13",
            "count": 1
           },
           {
            "name": "A16",
            "count": 1
           },
           {
            "name": "3 others",
            "count": 3
           }
          ]
         }
        },
        {
         "name": "colour",
         "dtype": "int64",
         "stats": {
          "unique_count": 4,
          "nan_count": 0,
          "min": "1",
          "max": "10",
          "histogram": [
           {
            "bin_start": 1,
            "bin_end": 1.9,
            "count": 2
           },
           {
            "bin_start": 1.9,
            "bin_end": 2.8,
            "count": 0
           },
           {
            "bin_start": 2.8,
            "bin_end": 3.7,
            "count": 0
           },
           {
            "bin_start": 3.7,
            "bin_end": 4.6,
            "count": 1
           },
           {
            "bin_start": 4.6,
            "bin_end": 5.5,
            "count": 0
           },
           {
            "bin_start": 5.5,
            "bin_end": 6.4,
            "count": 1
           },
           {
            "bin_start": 6.4,
            "bin_end": 7.3,
            "count": 0
           },
           {
            "bin_start": 7.3,
            "bin_end": 8.2,
            "count": 0
           },
           {
            "bin_start": 8.2,
            "bin_end": 9.1,
            "count": 0
           },
           {
            "bin_start": 9.1,
            "bin_end": 10,
            "count": 1
           }
          ]
         }
        },
        {
         "name": "location",
         "dtype": "int64",
         "stats": {
          "unique_count": 4,
          "nan_count": 0,
          "min": "2",
          "max": "6",
          "histogram": [
           {
            "bin_start": 2,
            "bin_end": 2.4,
            "count": 1
           },
           {
            "bin_start": 2.4,
            "bin_end": 2.8,
            "count": 0
           },
           {
            "bin_start": 2.8,
            "bin_end": 3.2,
            "count": 1
           },
           {
            "bin_start": 3.2,
            "bin_end": 3.6,
            "count": 0
           },
           {
            "bin_start": 3.6,
            "bin_end": 4,
            "count": 0
           },
           {
            "bin_start": 4,
            "bin_end": 4.4,
            "count": 0
           },
           {
            "bin_start": 4.4,
            "bin_end": 4.800000000000001,
            "count": 0
           },
           {
            "bin_start": 4.800000000000001,
            "bin_end": 5.2,
            "count": 1
           },
           {
            "bin_start": 5.2,
            "bin_end": 5.6,
            "count": 0
           },
           {
            "bin_start": 5.6,
            "bin_end": 6,
            "count": 2
           }
          ]
         }
        },
        {
         "name": "model photography",
         "dtype": "int64",
         "stats": {
          "unique_count": 2,
          "nan_count": 0,
          "min": "1",
          "max": "2",
          "histogram": [
           {
            "bin_start": 1,
            "bin_end": 1.1,
            "count": 3
           },
           {
            "bin_start": 1.1,
            "bin_end": 1.2,
            "count": 0
           },
           {
            "bin_start": 1.2,
            "bin_end": 1.3,
            "count": 0
           },
           {
            "bin_start": 1.3,
            "bin_end": 1.4,
            "count": 0
           },
           {
            "bin_start": 1.4,
            "bin_end": 1.5,
            "count": 0
           },
           {
            "bin_start": 1.5,
            "bin_end": 1.6,
            "count": 0
           },
           {
            "bin_start": 1.6,
            "bin_end": 1.7000000000000002,
            "count": 0
           },
           {
            "bin_start": 1.7000000000000002,
            "bin_end": 1.8,
            "count": 0
           },
           {
            "bin_start": 1.8,
            "bin_end": 1.9,
            "count": 0
           },
           {
            "bin_start": 1.9,
            "bin_end": 2,
            "count": 2
           }
          ]
         }
        },
        {
         "name": "price",
         "dtype": "int64",
         "stats": {
          "unique_count": 4,
          "nan_count": 0,
          "min": "28",
          "max": "52",
          "histogram": [
           {
            "bin_start": 28,
            "bin_end": 30.4,
            "count": 1
           },
           {
            "bin_start": 30.4,
            "bin_end": 32.8,
            "count": 0
           },
           {
            "bin_start": 32.8,
            "bin_end": 35.2,
            "count": 1
           },
           {
            "bin_start": 35.2,
            "bin_end": 37.6,
            "count": 0
           },
           {
            "bin_start": 37.6,
            "bin_end": 40,
            "count": 1
           },
           {
            "bin_start": 40,
            "bin_end": 42.4,
            "count": 0
           },
           {
            "bin_start": 42.4,
            "bin_end": 44.8,
            "count": 0
           },
           {
            "bin_start": 44.8,
            "bin_end": 47.2,
            "count": 0
           },
           {
            "bin_start": 47.2,
            "bin_end": 49.599999999999994,
            "count": 0
           },
           {
            "bin_start": 49.599999999999994,
            "bin_end": 52,
            "count": 2
           }
          ]
         }
        },
        {
         "name": "price 2",
         "dtype": "int64",
         "stats": {
          "unique_count": 2,
          "nan_count": 0,
          "min": "1",
          "max": "2",
          "histogram": [
           {
            "bin_start": 1,
            "bin_end": 1.1,
            "count": 2
           },
           {
            "bin_start": 1.1,
            "bin_end": 1.2,
            "count": 0
           },
           {
            "bin_start": 1.2,
            "bin_end": 1.3,
            "count": 0
           },
           {
            "bin_start": 1.3,
            "bin_end": 1.4,
            "count": 0
           },
           {
            "bin_start": 1.4,
            "bin_end": 1.5,
            "count": 0
           },
           {
            "bin_start": 1.5,
            "bin_end": 1.6,
            "count": 0
           },
           {
            "bin_start": 1.6,
            "bin_end": 1.7000000000000002,
            "count": 0
           },
           {
            "bin_start": 1.7000000000000002,
            "bin_end": 1.8,
            "count": 0
           },
           {
            "bin_start": 1.8,
            "bin_end": 1.9,
            "count": 0
           },
           {
            "bin_start": 1.9,
            "bin_end": 2,
            "count": 3
           }
          ]
         }
        },
        {
         "name": "page",
         "dtype": "int64",
         "stats": {
          "unique_count": 1,
          "nan_count": 0,
          "min": "1",
          "max": "1",
          "histogram": [
           {
            "bin_start": 0.5,
            "bin_end": 0.6,
            "count": 0
           },
           {
            "bin_start": 0.6,
            "bin_end": 0.7,
            "count": 0
           },
           {
            "bin_start": 0.7,
            "bin_end": 0.8,
            "count": 0
           },
           {
            "bin_start": 0.8,
            "bin_end": 0.9,
            "count": 0
           },
           {
            "bin_start": 0.9,
            "bin_end": 1,
            "count": 0
           },
           {
            "bin_start": 1,
            "bin_end": 1.1,
            "count": 5
           },
           {
            "bin_start": 1.1,
            "bin_end": 1.2000000000000002,
            "count": 0
           },
           {
            "bin_start": 1.2000000000000002,
            "bin_end": 1.3,
            "count": 0
           },
           {
            "bin_start": 1.3,
            "bin_end": 1.4,
            "count": 0
           },
           {
            "bin_start": 1.4,
            "bin_end": 1.5,
            "count": 0
           }
          ]
         }
        },
        {
         "name": "_deepnote_index_column",
         "dtype": "int64"
        }
       ],
       "rows_top": [
        {
         "year": 2020,
         "month": 4,
         "day": 1,
         "order": 1,
         "country": 29,
         "session ID": 1,
         "page 1 (main category)": 1,
         "page 2 (clothing model)": "A13",
         "colour": 1,
         "location": 5,
         "model photography": 1,
         "price": 28,
         "price 2": 2,
         "page": 1,
         "_deepnote_index_column": 0
        },
        {
         "year": 2020,
         "month": 4,
         "day": 1,
         "order": 2,
         "country": 29,
         "session ID": 1,
         "page 1 (main category)": 1,
         "page 2 (clothing model)": "A16",
         "colour": 1,
         "location": 6,
         "model photography": 1,
         "price": 33,
         "price 2": 2,
         "page": 1,
         "_deepnote_index_column": 1
        },
        {
         "year": 2020,
         "month": 4,
         "day": 1,
         "order": 3,
         "country": 29,
         "session ID": 1,
         "page 1 (main category)": 2,
         "page 2 (clothing model)": "B4",
         "colour": 10,
         "location": 2,
         "model photography": 1,
         "price": 52,
         "price 2": 1,
         "page": 1,
         "_deepnote_index_column": 2
        },
        {
         "year": 2020,
         "month": 4,
         "day": 1,
         "order": 4,
         "country": 29,
         "session ID": 1,
         "page 1 (main category)": 2,
         "page 2 (clothing model)": "B17",
         "colour": 6,
         "location": 6,
         "model photography": 2,
         "price": 38,
         "price 2": 2,
         "page": 1,
         "_deepnote_index_column": 3
        },
        {
         "year": 2020,
         "month": 4,
         "day": 1,
         "order": 5,
         "country": 29,
         "session ID": 1,
         "page 1 (main category)": 2,
         "page 2 (clothing model)": "B8",
         "colour": 4,
         "location": 3,
         "model photography": 2,
         "price": 52,
         "price 2": 1,
         "page": 1,
         "_deepnote_index_column": 4
        }
       ],
       "rows_bottom": null
      },
      "text/plain": "   year  month  day  order  country  session ID  page 1 (main category)  \\\n0  2020      4    1      1       29           1                       1   \n1  2020      4    1      2       29           1                       1   \n2  2020      4    1      3       29           1                       2   \n3  2020      4    1      4       29           1                       2   \n4  2020      4    1      5       29           1                       2   \n\n  page 2 (clothing model)  colour  location  model photography  price  \\\n0                     A13       1         5                  1     28   \n1                     A16       1         6                  1     33   \n2                      B4      10         2                  1     52   \n3                     B17       6         6                  2     38   \n4                      B8       4         3                  2     52   \n\n   price 2  page  \n0        2     1  \n1        2     1  \n2        1     1  \n3        2     1  \n4        1     1  ",
      "text/html": "<div>\n<style scoped>\n    .dataframe tbody tr th:only-of-type {\n        vertical-align: middle;\n    }\n\n    .dataframe tbody tr th {\n        vertical-align: top;\n    }\n\n    .dataframe thead th {\n        text-align: right;\n    }\n</style>\n<table border=\"1\" class=\"dataframe\">\n  <thead>\n    <tr style=\"text-align: right;\">\n      <th></th>\n      <th>year</th>\n      <th>month</th>\n      <th>day</th>\n      <th>order</th>\n      <th>country</th>\n      <th>session ID</th>\n      <th>page 1 (main category)</th>\n      <th>page 2 (clothing model)</th>\n      <th>colour</th>\n      <th>location</th>\n      <th>model photography</th>\n      <th>price</th>\n      <th>price 2</th>\n      <th>page</th>\n    </tr>\n  </thead>\n  <tbody>\n    <tr>\n      <th>0</th>\n      <td>2020</td>\n      <td>4</td>\n      <td>1</td>\n      <td>1</td>\n      <td>29</td>\n      <td>1</td>\n      <td>1</td>\n      <td>A13</td>\n      <td>1</td>\n      <td>5</td>\n      <td>1</td>\n      <td>28</td>\n      <td>2</td>\n      <td>1</td>\n    </tr>\n    <tr>\n      <th>1</th>\n      <td>2020</td>\n      <td>4</td>\n      <td>1</td>\n      <td>2</td>\n      <td>29</td>\n      <td>1</td>\n      <td>1</td>\n      <td>A16</td>\n      <td>1</td>\n      <td>6</td>\n      <td>1</td>\n      <td>33</td>\n      <td>2</td>\n      <td>1</td>\n    </tr>\n    <tr>\n      <th>2</th>\n      <td>2020</td>\n      <td>4</td>\n      <td>1</td>\n      <td>3</td>\n      <td>29</td>\n      <td>1</td>\n      <td>2</td>\n      <td>B4</td>\n      <td>10</td>\n      <td>2</td>\n      <td>1</td>\n      <td>52</td>\n      <td>1</td>\n      <td>1</td>\n    </tr>\n    <tr>\n      <th>3</th>\n      <td>2020</td>\n      <td>4</td>\n      <td>1</td>\n      <td>4</td>\n      <td>29</td>\n      <td>1</td>\n      <td>2</td>\n      <td>B17</td>\n      <td>6</td>\n      <td>6</td>\n      <td>2</td>\n      <td>38</td>\n      <td>2</td>\n      <td>1</td>\n    </tr>\n    <tr>\n      <th>4</th>\n      <td>2020</td>\n      <td>4</td>\n      <td>1</td>\n      <td>5</td>\n      <td>29</td>\n      <td>1</td>\n      <td>2</td>\n      <td>B8</td>\n      <td>4</td>\n      <td>3</td>\n      <td>2</td>\n      <td>52</td>\n      <td>1</td>\n      <td>1</td>\n    </tr>\n  </tbody>\n</table>\n</div>"
     },
     "metadata": {}
    }
   ]
  },
  {
   "cell_type": "markdown",
   "source": "* All columns described in the documentation except of __\"page\"__ column (the last one)",
   "metadata": {
    "tags": [],
    "cell_id": "00001-c98fde51-1a0d-4fcb-8f1e-2a43735c77d7",
    "deepnote_cell_type": "markdown"
   }
  },
  {
   "cell_type": "code",
   "metadata": {
    "tags": [],
    "cell_id": "00001-ddb117ea-52e0-4a27-b81d-78c0b38913d3",
    "deepnote_to_be_reexecuted": false,
    "source_hash": "de1e323c",
    "execution_start": 1638719681256,
    "execution_millis": 7,
    "deepnote_cell_type": "code"
   },
   "source": "df.info()",
   "execution_count": null,
   "outputs": [
    {
     "name": "stdout",
     "text": "<class 'pandas.core.frame.DataFrame'>\nRangeIndex: 165474 entries, 0 to 165473\nData columns (total 14 columns):\n #   Column                   Non-Null Count   Dtype \n---  ------                   --------------   ----- \n 0   year                     165474 non-null  int64 \n 1   month                    165474 non-null  int64 \n 2   day                      165474 non-null  int64 \n 3   order                    165474 non-null  int64 \n 4   country                  165474 non-null  int64 \n 5   session ID               165474 non-null  int64 \n 6   page 1 (main category)   165474 non-null  int64 \n 7   page 2 (clothing model)  165474 non-null  object\n 8   colour                   165474 non-null  int64 \n 9   location                 165474 non-null  int64 \n 10  model photography        165474 non-null  int64 \n 11  price                    165474 non-null  int64 \n 12  price 2                  165474 non-null  int64 \n 13  page                     165474 non-null  int64 \ndtypes: int64(13), object(1)\nmemory usage: 17.7+ MB\n",
     "output_type": "stream"
    }
   ]
  },
  {
   "cell_type": "markdown",
   "source": "* Data doesn't contain any null values. \n* All columns have an integer type except \"page 2\"",
   "metadata": {
    "tags": [],
    "cell_id": "00002-4eae068a-378a-43f1-a60f-6428aada86b9",
    "deepnote_cell_type": "markdown"
   }
  },
  {
   "cell_type": "code",
   "metadata": {
    "tags": [],
    "cell_id": "00003-ae0ff190-b1f2-4280-a53e-1fd5cb2d359c",
    "deepnote_to_be_reexecuted": false,
    "source_hash": "f88152d9",
    "execution_start": 1638719681257,
    "execution_millis": 145,
    "deepnote_cell_type": "code"
   },
   "source": "df.describe()",
   "execution_count": null,
   "outputs": [
    {
     "output_type": "execute_result",
     "execution_count": 3,
     "data": {
      "application/vnd.deepnote.dataframe.v2+json": {
       "row_count": 8,
       "column_count": 13,
       "columns": [
        {
         "name": "year",
         "dtype": "float64",
         "stats": {
          "unique_count": 3,
          "nan_count": 0,
          "min": "0.0",
          "max": "165474.0",
          "histogram": [
           {
            "bin_start": 0,
            "bin_end": 16547.4,
            "count": 7
           },
           {
            "bin_start": 16547.4,
            "bin_end": 33094.8,
            "count": 0
           },
           {
            "bin_start": 33094.8,
            "bin_end": 49642.200000000004,
            "count": 0
           },
           {
            "bin_start": 49642.200000000004,
            "bin_end": 66189.6,
            "count": 0
           },
           {
            "bin_start": 66189.6,
            "bin_end": 82737,
            "count": 0
           },
           {
            "bin_start": 82737,
            "bin_end": 99284.40000000001,
            "count": 0
           },
           {
            "bin_start": 99284.40000000001,
            "bin_end": 115831.80000000002,
            "count": 0
           },
           {
            "bin_start": 115831.80000000002,
            "bin_end": 132379.2,
            "count": 0
           },
           {
            "bin_start": 132379.2,
            "bin_end": 148926.6,
            "count": 0
           },
           {
            "bin_start": 148926.6,
            "bin_end": 165474,
            "count": 1
           }
          ]
         }
        },
        {
         "name": "month",
         "dtype": "float64",
         "stats": {
          "unique_count": 7,
          "nan_count": 0,
          "min": "1.3281600470983832",
          "max": "165474.0",
          "histogram": [
           {
            "bin_start": 1.3281600470983832,
            "bin_end": 16548.595344042387,
            "count": 7
           },
           {
            "bin_start": 16548.595344042387,
            "bin_end": 33095.86252803768,
            "count": 0
           },
           {
            "bin_start": 33095.86252803768,
            "bin_end": 49643.12971203297,
            "count": 0
           },
           {
            "bin_start": 49643.12971203297,
            "bin_end": 66190.39689602825,
            "count": 0
           },
           {
            "bin_start": 66190.39689602825,
            "bin_end": 82737.66408002353,
            "count": 0
           },
           {
            "bin_start": 82737.66408002353,
            "bin_end": 99284.93126401883,
            "count": 0
           },
           {
            "bin_start": 99284.93126401883,
            "bin_end": 115832.19844801413,
            "count": 0
           },
           {
            "bin_start": 115832.19844801413,
            "bin_end": 132379.4656320094,
            "count": 0
           },
           {
            "bin_start": 132379.4656320094,
            "bin_end": 148926.7328160047,
            "count": 0
           },
           {
            "bin_start": 148926.7328160047,
            "bin_end": 165474,
            "count": 1
           }
          ]
         }
        },
        {
         "name": "day",
         "dtype": "float64",
         "stats": {
          "unique_count": 8,
          "nan_count": 0,
          "min": "1.0",
          "max": "165474.0",
          "histogram": [
           {
            "bin_start": 1,
            "bin_end": 16548.3,
            "count": 7
           },
           {
            "bin_start": 16548.3,
            "bin_end": 33095.6,
            "count": 0
           },
           {
            "bin_start": 33095.6,
            "bin_end": 49642.899999999994,
            "count": 0
           },
           {
            "bin_start": 49642.899999999994,
            "bin_end": 66190.2,
            "count": 0
           },
           {
            "bin_start": 66190.2,
            "bin_end": 82737.5,
            "count": 0
           },
           {
            "bin_start": 82737.5,
            "bin_end": 99284.79999999999,
            "count": 0
           },
           {
            "bin_start": 99284.79999999999,
            "bin_end": 115832.09999999999,
            "count": 0
           },
           {
            "bin_start": 115832.09999999999,
            "bin_end": 132379.4,
            "count": 0
           },
           {
            "bin_start": 132379.4,
            "bin_end": 148926.69999999998,
            "count": 0
           },
           {
            "bin_start": 148926.69999999998,
            "bin_end": 165474,
            "count": 1
           }
          ]
         }
        },
        {
         "name": "order",
         "dtype": "float64",
         "stats": {
          "unique_count": 8,
          "nan_count": 0,
          "min": "1.0",
          "max": "165474.0",
          "histogram": [
           {
            "bin_start": 1,
            "bin_end": 16548.3,
            "count": 7
           },
           {
            "bin_start": 16548.3,
            "bin_end": 33095.6,
            "count": 0
           },
           {
            "bin_start": 33095.6,
            "bin_end": 49642.899999999994,
            "count": 0
           },
           {
            "bin_start": 49642.899999999994,
            "bin_end": 66190.2,
            "count": 0
           },
           {
            "bin_start": 66190.2,
            "bin_end": 82737.5,
            "count": 0
           },
           {
            "bin_start": 82737.5,
            "bin_end": 99284.79999999999,
            "count": 0
           },
           {
            "bin_start": 99284.79999999999,
            "bin_end": 115832.09999999999,
            "count": 0
           },
           {
            "bin_start": 115832.09999999999,
            "bin_end": 132379.4,
            "count": 0
           },
           {
            "bin_start": 132379.4,
            "bin_end": 148926.69999999998,
            "count": 0
           },
           {
            "bin_start": 148926.69999999998,
            "bin_end": 165474,
            "count": 1
           }
          ]
         }
        },
        {
         "name": "country",
         "dtype": "float64",
         "stats": {
          "unique_count": 6,
          "nan_count": 0,
          "min": "1.0",
          "max": "165474.0",
          "histogram": [
           {
            "bin_start": 1,
            "bin_end": 16548.3,
            "count": 7
           },
           {
            "bin_start": 16548.3,
            "bin_end": 33095.6,
            "count": 0
           },
           {
            "bin_start": 33095.6,
            "bin_end": 49642.899999999994,
            "count": 0
           },
           {
            "bin_start": 49642.899999999994,
            "bin_end": 66190.2,
            "count": 0
           },
           {
            "bin_start": 66190.2,
            "bin_end": 82737.5,
            "count": 0
           },
           {
            "bin_start": 82737.5,
            "bin_end": 99284.79999999999,
            "count": 0
           },
           {
            "bin_start": 99284.79999999999,
            "bin_end": 115832.09999999999,
            "count": 0
           },
           {
            "bin_start": 115832.09999999999,
            "bin_end": 132379.4,
            "count": 0
           },
           {
            "bin_start": 132379.4,
            "bin_end": 148926.69999999998,
            "count": 0
           },
           {
            "bin_start": 148926.69999999998,
            "bin_end": 165474,
            "count": 1
           }
          ]
         }
        },
        {
         "name": "session ID",
         "dtype": "float64",
         "stats": {
          "unique_count": 8,
          "nan_count": 0,
          "min": "1.0",
          "max": "165474.0",
          "histogram": [
           {
            "bin_start": 1,
            "bin_end": 16548.3,
            "count": 5
           },
           {
            "bin_start": 16548.3,
            "bin_end": 33095.6,
            "count": 2
           },
           {
            "bin_start": 33095.6,
            "bin_end": 49642.899999999994,
            "count": 0
           },
           {
            "bin_start": 49642.899999999994,
            "bin_end": 66190.2,
            "count": 0
           },
           {
            "bin_start": 66190.2,
            "bin_end": 82737.5,
            "count": 0
           },
           {
            "bin_start": 82737.5,
            "bin_end": 99284.79999999999,
            "count": 0
           },
           {
            "bin_start": 99284.79999999999,
            "bin_end": 115832.09999999999,
            "count": 0
           },
           {
            "bin_start": 115832.09999999999,
            "bin_end": 132379.4,
            "count": 0
           },
           {
            "bin_start": 132379.4,
            "bin_end": 148926.69999999998,
            "count": 0
           },
           {
            "bin_start": 148926.69999999998,
            "bin_end": 165474,
            "count": 1
           }
          ]
         }
        },
        {
         "name": "page 1 (main category)",
         "dtype": "float64",
         "stats": {
          "unique_count": 7,
          "nan_count": 0,
          "min": "1.0",
          "max": "165474.0",
          "histogram": [
           {
            "bin_start": 1,
            "bin_end": 16548.3,
            "count": 7
           },
           {
            "bin_start": 16548.3,
            "bin_end": 33095.6,
            "count": 0
           },
           {
            "bin_start": 33095.6,
            "bin_end": 49642.899999999994,
            "count": 0
           },
           {
            "bin_start": 49642.899999999994,
            "bin_end": 66190.2,
            "count": 0
           },
           {
            "bin_start": 66190.2,
            "bin_end": 82737.5,
            "count": 0
           },
           {
            "bin_start": 82737.5,
            "bin_end": 99284.79999999999,
            "count": 0
           },
           {
            "bin_start": 99284.79999999999,
            "bin_end": 115832.09999999999,
            "count": 0
           },
           {
            "bin_start": 115832.09999999999,
            "bin_end": 132379.4,
            "count": 0
           },
           {
            "bin_start": 132379.4,
            "bin_end": 148926.69999999998,
            "count": 0
           },
           {
            "bin_start": 148926.69999999998,
            "bin_end": 165474,
            "count": 1
           }
          ]
         }
        },
        {
         "name": "colour",
         "dtype": "float64",
         "stats": {
          "unique_count": 8,
          "nan_count": 0,
          "min": "1.0",
          "max": "165474.0",
          "histogram": [
           {
            "bin_start": 1,
            "bin_end": 16548.3,
            "count": 7
           },
           {
            "bin_start": 16548.3,
            "bin_end": 33095.6,
            "count": 0
           },
           {
            "bin_start": 33095.6,
            "bin_end": 49642.899999999994,
            "count": 0
           },
           {
            "bin_start": 49642.899999999994,
            "bin_end": 66190.2,
            "count": 0
           },
           {
            "bin_start": 66190.2,
            "bin_end": 82737.5,
            "count": 0
           },
           {
            "bin_start": 82737.5,
            "bin_end": 99284.79999999999,
            "count": 0
           },
           {
            "bin_start": 99284.79999999999,
            "bin_end": 115832.09999999999,
            "count": 0
           },
           {
            "bin_start": 115832.09999999999,
            "bin_end": 132379.4,
            "count": 0
           },
           {
            "bin_start": 132379.4,
            "bin_end": 148926.69999999998,
            "count": 0
           },
           {
            "bin_start": 148926.69999999998,
            "bin_end": 165474,
            "count": 1
           }
          ]
         }
        },
        {
         "name": "location",
         "dtype": "float64",
         "stats": {
          "unique_count": 8,
          "nan_count": 0,
          "min": "1.0",
          "max": "165474.0",
          "histogram": [
           {
            "bin_start": 1,
            "bin_end": 16548.3,
            "count": 7
           },
           {
            "bin_start": 16548.3,
            "bin_end": 33095.6,
            "count": 0
           },
           {
            "bin_start": 33095.6,
            "bin_end": 49642.899999999994,
            "count": 0
           },
           {
            "bin_start": 49642.899999999994,
            "bin_end": 66190.2,
            "count": 0
           },
           {
            "bin_start": 66190.2,
            "bin_end": 82737.5,
            "count": 0
           },
           {
            "bin_start": 82737.5,
            "bin_end": 99284.79999999999,
            "count": 0
           },
           {
            "bin_start": 99284.79999999999,
            "bin_end": 115832.09999999999,
            "count": 0
           },
           {
            "bin_start": 115832.09999999999,
            "bin_end": 132379.4,
            "count": 0
           },
           {
            "bin_start": 132379.4,
            "bin_end": 148926.69999999998,
            "count": 0
           },
           {
            "bin_start": 148926.69999999998,
            "bin_end": 165474,
            "count": 1
           }
          ]
         }
        },
        {
         "name": "model photography",
         "dtype": "float64",
         "stats": {
          "unique_count": 5,
          "nan_count": 0,
          "min": "0.43867444739218003",
          "max": "165474.0",
          "histogram": [
           {
            "bin_start": 0.43867444739218003,
            "bin_end": 16547.794807002654,
            "count": 7
           },
           {
            "bin_start": 16547.794807002654,
            "bin_end": 33095.15093955791,
            "count": 0
           },
           {
            "bin_start": 33095.15093955791,
            "bin_end": 49642.50707211318,
            "count": 0
           },
           {
            "bin_start": 49642.50707211318,
            "bin_end": 66189.86320466844,
            "count": 0
           },
           {
            "bin_start": 66189.86320466844,
            "bin_end": 82737.2193372237,
            "count": 0
           },
           {
            "bin_start": 82737.2193372237,
            "bin_end": 99284.57546977897,
            "count": 0
           },
           {
            "bin_start": 99284.57546977897,
            "bin_end": 115831.93160233423,
            "count": 0
           },
           {
            "bin_start": 115831.93160233423,
            "bin_end": 132379.28773488948,
            "count": 0
           },
           {
            "bin_start": 132379.28773488948,
            "bin_end": 148926.64386744474,
            "count": 0
           },
           {
            "bin_start": 148926.64386744474,
            "bin_end": 165474,
            "count": 1
           }
          ]
         }
        },
        {
         "name": "price",
         "dtype": "float64",
         "stats": {
          "unique_count": 8,
          "nan_count": 0,
          "min": "12.548131195655676",
          "max": "165474.0",
          "histogram": [
           {
            "bin_start": 12.548131195655676,
            "bin_end": 16558.693318076093,
            "count": 7
           },
           {
            "bin_start": 16558.693318076093,
            "bin_end": 33104.838504956526,
            "count": 0
           },
           {
            "bin_start": 33104.838504956526,
            "bin_end": 49650.98369183696,
            "count": 0
           },
           {
            "bin_start": 49650.98369183696,
            "bin_end": 66197.1288787174,
            "count": 0
           },
           {
            "bin_start": 66197.1288787174,
            "bin_end": 82743.27406559783,
            "count": 0
           },
           {
            "bin_start": 82743.27406559783,
            "bin_end": 99289.41925247827,
            "count": 0
           },
           {
            "bin_start": 99289.41925247827,
            "bin_end": 115835.56443935871,
            "count": 0
           },
           {
            "bin_start": 115835.56443935871,
            "bin_end": 132381.70962623914,
            "count": 0
           },
           {
            "bin_start": 132381.70962623914,
            "bin_end": 148927.85481311957,
            "count": 0
           },
           {
            "bin_start": 148927.85481311957,
            "bin_end": 165474,
            "count": 1
           }
          ]
         }
        },
        {
         "name": "price 2",
         "dtype": "float64",
         "stats": {
          "unique_count": 5,
          "nan_count": 0,
          "min": "0.4998614785975315",
          "max": "165474.0",
          "histogram": [
           {
            "bin_start": 0.4998614785975315,
            "bin_end": 16547.84987533074,
            "count": 7
           },
           {
            "bin_start": 16547.84987533074,
            "bin_end": 33095.19988918288,
            "count": 0
           },
           {
            "bin_start": 33095.19988918288,
            "bin_end": 49642.54990303502,
            "count": 0
           },
           {
            "bin_start": 49642.54990303502,
            "bin_end": 66189.89991688717,
            "count": 0
           },
           {
            "bin_start": 66189.89991688717,
            "bin_end": 82737.24993073932,
            "count": 0
           },
           {
            "bin_start": 82737.24993073932,
            "bin_end": 99284.59994459145,
            "count": 0
           },
           {
            "bin_start": 99284.59994459145,
            "bin_end": 115831.94995844358,
            "count": 0
           },
           {
            "bin_start": 115831.94995844358,
            "bin_end": 132379.29997229573,
            "count": 0
           },
           {
            "bin_start": 132379.29997229573,
            "bin_end": 148926.64998614788,
            "count": 0
           },
           {
            "bin_start": 148926.64998614788,
            "bin_end": 165474,
            "count": 1
           }
          ]
         }
        },
        {
         "name": "page",
         "dtype": "float64",
         "stats": {
          "unique_count": 6,
          "nan_count": 0,
          "min": "0.9824121539300722",
          "max": "165474.0",
          "histogram": [
           {
            "bin_start": 0.9824121539300722,
            "bin_end": 16548.284170938536,
            "count": 7
           },
           {
            "bin_start": 16548.284170938536,
            "bin_end": 33095.585929723136,
            "count": 0
           },
           {
            "bin_start": 33095.585929723136,
            "bin_end": 49642.88768850774,
            "count": 0
           },
           {
            "bin_start": 49642.88768850774,
            "bin_end": 66190.18944729234,
            "count": 0
           },
           {
            "bin_start": 66190.18944729234,
            "bin_end": 82737.49120607694,
            "count": 0
           },
           {
            "bin_start": 82737.49120607694,
            "bin_end": 99284.79296486155,
            "count": 0
           },
           {
            "bin_start": 99284.79296486155,
            "bin_end": 115832.09472364617,
            "count": 0
           },
           {
            "bin_start": 115832.09472364617,
            "bin_end": 132379.39648243078,
            "count": 0
           },
           {
            "bin_start": 132379.39648243078,
            "bin_end": 148926.69824121537,
            "count": 0
           },
           {
            "bin_start": 148926.69824121537,
            "bin_end": 165474,
            "count": 1
           }
          ]
         }
        },
        {
         "name": "_deepnote_index_column",
         "dtype": "object"
        }
       ],
       "rows_top": [
        {
         "year": 165474,
         "month": 165474,
         "day": 165474,
         "order": 165474,
         "country": 165474,
         "session ID": 165474,
         "page 1 (main category)": 165474,
         "colour": 165474,
         "location": 165474,
         "model photography": 165474,
         "price": 165474,
         "price 2": 165474,
         "page": 165474,
         "_deepnote_index_column": "count"
        },
        {
         "year": 2020,
         "month": 5.585886604542103,
         "day": 14.524553706322443,
         "order": 9.817475857234369,
         "country": 26.952620955557972,
         "session ID": 12058.417056455999,
         "page 1 (main category)": 2.4008424284177576,
         "colour": 6.2276550998948474,
         "location": 3.2581976624726545,
         "model photography": 1.260071068566663,
         "price": 43.802506738218696,
         "price 2": 1.4881673253804224,
         "page": 1.7101659475204565,
         "_deepnote_index_column": "mean"
        },
        {
         "year": 0,
         "month": 1.3281600470983832,
         "day": 8.830374000943134,
         "order": 13.47841134904626,
         "country": 7.1506909739810975,
         "session ID": 7008.418902897863,
         "page 1 (main category)": 1.1444200219515617,
         "colour": 4.235606081622826,
         "location": 1.713205775563423,
         "model photography": 0.43867444739218003,
         "price": 12.548131195655676,
         "price 2": 0.4998614785975315,
         "page": 0.9824121539300722,
         "_deepnote_index_column": "std"
        },
        {
         "year": 2020,
         "month": 4,
         "day": 1,
         "order": 1,
         "country": 1,
         "session ID": 1,
         "page 1 (main category)": 1,
         "colour": 1,
         "location": 1,
         "model photography": 1,
         "price": 18,
         "price 2": 1,
         "page": 1,
         "_deepnote_index_column": "min"
        },
        {
         "year": 2020,
         "month": 4,
         "day": 7,
         "order": 2,
         "country": 29,
         "session ID": 5931,
         "page 1 (main category)": 1,
         "colour": 3,
         "location": 2,
         "model photography": 1,
         "price": 33,
         "price 2": 1,
         "page": 1,
         "_deepnote_index_column": "25%"
        },
        {
         "year": 2020,
         "month": 5,
         "day": 14,
         "order": 6,
         "country": 29,
         "session ID": 11967.5,
         "page 1 (main category)": 2,
         "colour": 4,
         "location": 3,
         "model photography": 1,
         "price": 43,
         "price 2": 1,
         "page": 1,
         "_deepnote_index_column": "50%"
        },
        {
         "year": 2020,
         "month": 7,
         "day": 22,
         "order": 12,
         "country": 29,
         "session ID": 18219,
         "page 1 (main category)": 3,
         "colour": 9,
         "location": 5,
         "model photography": 2,
         "price": 52,
         "price 2": 2,
         "page": 2,
         "_deepnote_index_column": "75%"
        },
        {
         "year": 2020,
         "month": 8,
         "day": 31,
         "order": 195,
         "country": 47,
         "session ID": 24026,
         "page 1 (main category)": 4,
         "colour": 14,
         "location": 6,
         "model photography": 2,
         "price": 82,
         "price 2": 2,
         "page": 5,
         "_deepnote_index_column": "max"
        }
       ],
       "rows_bottom": null
      },
      "text/plain": "           year          month            day          order        country  \\\ncount  165474.0  165474.000000  165474.000000  165474.000000  165474.000000   \nmean     2020.0       5.585887      14.524554       9.817476      26.952621   \nstd         0.0       1.328160       8.830374      13.478411       7.150691   \nmin      2020.0       4.000000       1.000000       1.000000       1.000000   \n25%      2020.0       4.000000       7.000000       2.000000      29.000000   \n50%      2020.0       5.000000      14.000000       6.000000      29.000000   \n75%      2020.0       7.000000      22.000000      12.000000      29.000000   \nmax      2020.0       8.000000      31.000000     195.000000      47.000000   \n\n          session ID  page 1 (main category)         colour       location  \\\ncount  165474.000000           165474.000000  165474.000000  165474.000000   \nmean    12058.417056                2.400842       6.227655       3.258198   \nstd      7008.418903                1.144420       4.235606       1.713206   \nmin         1.000000                1.000000       1.000000       1.000000   \n25%      5931.000000                1.000000       3.000000       2.000000   \n50%     11967.500000                2.000000       4.000000       3.000000   \n75%     18219.000000                3.000000       9.000000       5.000000   \nmax     24026.000000                4.000000      14.000000       6.000000   \n\n       model photography          price        price 2           page  \ncount      165474.000000  165474.000000  165474.000000  165474.000000  \nmean            1.260071      43.802507       1.488167       1.710166  \nstd             0.438674      12.548131       0.499861       0.982412  \nmin             1.000000      18.000000       1.000000       1.000000  \n25%             1.000000      33.000000       1.000000       1.000000  \n50%             1.000000      43.000000       1.000000       1.000000  \n75%             2.000000      52.000000       2.000000       2.000000  \nmax             2.000000      82.000000       2.000000       5.000000  ",
      "text/html": "<div>\n<style scoped>\n    .dataframe tbody tr th:only-of-type {\n        vertical-align: middle;\n    }\n\n    .dataframe tbody tr th {\n        vertical-align: top;\n    }\n\n    .dataframe thead th {\n        text-align: right;\n    }\n</style>\n<table border=\"1\" class=\"dataframe\">\n  <thead>\n    <tr style=\"text-align: right;\">\n      <th></th>\n      <th>year</th>\n      <th>month</th>\n      <th>day</th>\n      <th>order</th>\n      <th>country</th>\n      <th>session ID</th>\n      <th>page 1 (main category)</th>\n      <th>colour</th>\n      <th>location</th>\n      <th>model photography</th>\n      <th>price</th>\n      <th>price 2</th>\n      <th>page</th>\n    </tr>\n  </thead>\n  <tbody>\n    <tr>\n      <th>count</th>\n      <td>165474.0</td>\n      <td>165474.000000</td>\n      <td>165474.000000</td>\n      <td>165474.000000</td>\n      <td>165474.000000</td>\n      <td>165474.000000</td>\n      <td>165474.000000</td>\n      <td>165474.000000</td>\n      <td>165474.000000</td>\n      <td>165474.000000</td>\n      <td>165474.000000</td>\n      <td>165474.000000</td>\n      <td>165474.000000</td>\n    </tr>\n    <tr>\n      <th>mean</th>\n      <td>2020.0</td>\n      <td>5.585887</td>\n      <td>14.524554</td>\n      <td>9.817476</td>\n      <td>26.952621</td>\n      <td>12058.417056</td>\n      <td>2.400842</td>\n      <td>6.227655</td>\n      <td>3.258198</td>\n      <td>1.260071</td>\n      <td>43.802507</td>\n      <td>1.488167</td>\n      <td>1.710166</td>\n    </tr>\n    <tr>\n      <th>std</th>\n      <td>0.0</td>\n      <td>1.328160</td>\n      <td>8.830374</td>\n      <td>13.478411</td>\n      <td>7.150691</td>\n      <td>7008.418903</td>\n      <td>1.144420</td>\n      <td>4.235606</td>\n      <td>1.713206</td>\n      <td>0.438674</td>\n      <td>12.548131</td>\n      <td>0.499861</td>\n      <td>0.982412</td>\n    </tr>\n    <tr>\n      <th>min</th>\n      <td>2020.0</td>\n      <td>4.000000</td>\n      <td>1.000000</td>\n      <td>1.000000</td>\n      <td>1.000000</td>\n      <td>1.000000</td>\n      <td>1.000000</td>\n      <td>1.000000</td>\n      <td>1.000000</td>\n      <td>1.000000</td>\n      <td>18.000000</td>\n      <td>1.000000</td>\n      <td>1.000000</td>\n    </tr>\n    <tr>\n      <th>25%</th>\n      <td>2020.0</td>\n      <td>4.000000</td>\n      <td>7.000000</td>\n      <td>2.000000</td>\n      <td>29.000000</td>\n      <td>5931.000000</td>\n      <td>1.000000</td>\n      <td>3.000000</td>\n      <td>2.000000</td>\n      <td>1.000000</td>\n      <td>33.000000</td>\n      <td>1.000000</td>\n      <td>1.000000</td>\n    </tr>\n    <tr>\n      <th>50%</th>\n      <td>2020.0</td>\n      <td>5.000000</td>\n      <td>14.000000</td>\n      <td>6.000000</td>\n      <td>29.000000</td>\n      <td>11967.500000</td>\n      <td>2.000000</td>\n      <td>4.000000</td>\n      <td>3.000000</td>\n      <td>1.000000</td>\n      <td>43.000000</td>\n      <td>1.000000</td>\n      <td>1.000000</td>\n    </tr>\n    <tr>\n      <th>75%</th>\n      <td>2020.0</td>\n      <td>7.000000</td>\n      <td>22.000000</td>\n      <td>12.000000</td>\n      <td>29.000000</td>\n      <td>18219.000000</td>\n      <td>3.000000</td>\n      <td>9.000000</td>\n      <td>5.000000</td>\n      <td>2.000000</td>\n      <td>52.000000</td>\n      <td>2.000000</td>\n      <td>2.000000</td>\n    </tr>\n    <tr>\n      <th>max</th>\n      <td>2020.0</td>\n      <td>8.000000</td>\n      <td>31.000000</td>\n      <td>195.000000</td>\n      <td>47.000000</td>\n      <td>24026.000000</td>\n      <td>4.000000</td>\n      <td>14.000000</td>\n      <td>6.000000</td>\n      <td>2.000000</td>\n      <td>82.000000</td>\n      <td>2.000000</td>\n      <td>5.000000</td>\n    </tr>\n  </tbody>\n</table>\n</div>"
     },
     "metadata": {}
    }
   ]
  },
  {
   "cell_type": "markdown",
   "source": "* There are no outliers in the numerical data. \n* All sales data is from 2020 year from April to August.\n* No outliers in the categorical data.",
   "metadata": {
    "tags": [],
    "cell_id": "00004-9d9dd8ff-925a-4ca4-921c-7234a961f199",
    "deepnote_cell_type": "markdown"
   }
  },
  {
   "cell_type": "code",
   "metadata": {
    "tags": [],
    "cell_id": "00005-f6f69370-7bf7-4090-9e44-697d0e6abad1",
    "deepnote_to_be_reexecuted": false,
    "source_hash": "eb424d94",
    "execution_start": 1638719681406,
    "execution_millis": 48,
    "deepnote_cell_type": "code"
   },
   "source": "# checking the duplicates \ndf.shape\nduplicate_rows_data = df[df.duplicated()]\nprint('number of duplicate rows: ', duplicate_rows_data.shape)",
   "execution_count": null,
   "outputs": [
    {
     "name": "stdout",
     "text": "number of duplicate rows:  (0, 14)\n",
     "output_type": "stream"
    }
   ]
  },
  {
   "cell_type": "markdown",
   "source": "* No duplicate values.",
   "metadata": {
    "tags": [],
    "cell_id": "00007-e9db0058-9ffe-4a87-a673-8bfdacf243ae",
    "deepnote_cell_type": "markdown"
   }
  },
  {
   "cell_type": "code",
   "metadata": {
    "tags": [],
    "cell_id": "00009-5eb30dab-3eb9-4be3-9a90-1b666a4b98ee",
    "deepnote_to_be_reexecuted": false,
    "source_hash": "43932cd9",
    "execution_start": 1638719681459,
    "execution_millis": 51,
    "deepnote_cell_type": "code"
   },
   "source": "#counting unique values\nuniqueValues = df.nunique()\nprint('Count of unique values in each column :')\nprint(uniqueValues)",
   "execution_count": null,
   "outputs": [
    {
     "name": "stdout",
     "text": "Count of unique values in each column :\nyear                           1\nmonth                          5\nday                           31\norder                        195\ncountry                       47\nsession ID                 24026\npage 1 (main category)         4\npage 2 (clothing model)      217\ncolour                        14\nlocation                       6\nmodel photography              2\nprice                         20\nprice 2                        2\npage                           5\ndtype: int64\n",
     "output_type": "stream"
    }
   ]
  },
  {
   "cell_type": "code",
   "metadata": {
    "tags": [],
    "cell_id": "00009-9c23bac1-02e9-45a4-900d-bc864f95df55",
    "deepnote_to_be_reexecuted": false,
    "source_hash": "69d69366",
    "execution_start": 1638719681515,
    "execution_millis": 4,
    "deepnote_cell_type": "code"
   },
   "source": "#renaming the columns with spaces\ndf.rename(columns={'page 1 (main category)': 'page1', 'page 2 (clothing model)': 'page2', 'session ID': 'session ID', 'price 2': 'price2'}, inplace=True)",
   "execution_count": null,
   "outputs": []
  },
  {
   "cell_type": "code",
   "metadata": {
    "tags": [],
    "cell_id": "00008-26e209d7-2638-432a-9cbb-5743b7244de7",
    "deepnote_to_be_reexecuted": false,
    "source_hash": "b19aae3f",
    "execution_start": 1638719681569,
    "execution_millis": 3456,
    "deepnote_output_heights": [
     null,
     611
    ],
    "deepnote_cell_type": "code"
   },
   "source": "# plotting the data of type int\nint_attributes = df.select_dtypes(include=['int64'])\nint_attributes.hist(figsize=(20,12))",
   "execution_count": null,
   "outputs": [
    {
     "output_type": "execute_result",
     "execution_count": 7,
     "data": {
      "text/plain": "array([[<AxesSubplot:title={'center':'year'}>,\n        <AxesSubplot:title={'center':'month'}>,\n        <AxesSubplot:title={'center':'day'}>,\n        <AxesSubplot:title={'center':'order'}>],\n       [<AxesSubplot:title={'center':'country'}>,\n        <AxesSubplot:title={'center':'session ID'}>,\n        <AxesSubplot:title={'center':'page1'}>,\n        <AxesSubplot:title={'center':'colour'}>],\n       [<AxesSubplot:title={'center':'location'}>,\n        <AxesSubplot:title={'center':'model photography'}>,\n        <AxesSubplot:title={'center':'price'}>,\n        <AxesSubplot:title={'center':'price2'}>],\n       [<AxesSubplot:title={'center':'page'}>, <AxesSubplot:>,\n        <AxesSubplot:>, <AxesSubplot:>]], dtype=object)"
     },
     "metadata": {}
    },
    {
     "data": {
      "text/plain": "<Figure size 1440x864 with 16 Axes>",
      "image/png": "[encoded data removed]"
     },
     "metadata": {
      "needs_background": "light",
      "image/png": {
       "width": 1179,
       "height": 699
      }
     },
     "output_type": "display_data"
    }
   ]
  },
  {
   "cell_type": "markdown",
   "source": "* The most popular order of clicks are from 1 to approx. 25\n* Most of the data comes from several countries\n* The most popular colors are from 1 to 3\n* Most of the photos of the items are \"en face\"\n* There are 2 peaks in items prices. One around 40 another 60. Could be \"usual\" and \"limited\" collections",
   "metadata": {
    "tags": [],
    "cell_id": "00009-bf781a65-28c0-4a78-8ccb-51f63bee3c43",
    "deepnote_cell_type": "markdown"
   }
  },
  {
   "cell_type": "code",
   "metadata": {
    "tags": [],
    "cell_id": "00011-71396794-0be2-4de4-9706-cc7e3f1b8c80",
    "deepnote_to_be_reexecuted": false,
    "source_hash": "7c582ed8",
    "execution_start": 1638719685036,
    "execution_millis": 322,
    "deepnote_output_heights": [
     611
    ],
    "deepnote_cell_type": "code"
   },
   "source": "pd.crosstab(df[\"country\"], df[\"page1\"], margins = True)",
   "execution_count": null,
   "outputs": [
    {
     "output_type": "execute_result",
     "execution_count": 8,
     "data": {
      "application/vnd.deepnote.dataframe.v2+json": {
       "row_count": 48,
       "column_count": 5,
       "columns": [
        {
         "name": 1,
         "dtype": "int64",
         "stats": {
          "unique_count": 31,
          "nan_count": 0,
          "min": "0",
          "max": "49742",
          "histogram": [
           {
            "bin_start": 0,
            "bin_end": 4974.2,
            "count": 45
           },
           {
            "bin_start": 4974.2,
            "bin_end": 9948.4,
            "count": 1
           },
           {
            "bin_start": 9948.4,
            "bin_end": 14922.599999999999,
            "count": 0
           },
           {
            "bin_start": 14922.599999999999,
            "bin_end": 19896.8,
            "count": 0
           },
           {
            "bin_start": 19896.8,
            "bin_end": 24871,
            "count": 0
           },
           {
            "bin_start": 24871,
            "bin_end": 29845.199999999997,
            "count": 0
           },
           {
            "bin_start": 29845.199999999997,
            "bin_end": 34819.4,
            "count": 0
           },
           {
            "bin_start": 34819.4,
            "bin_end": 39793.6,
            "count": 1
           },
           {
            "bin_start": 39793.6,
            "bin_end": 44767.799999999996,
            "count": 0
           },
           {
            "bin_start": 44767.799999999996,
            "bin_end": 49742,
            "count": 1
           }
          ]
         }
        },
        {
         "name": 2,
         "dtype": "int64",
         "stats": {
          "unique_count": 29,
          "nan_count": 0,
          "min": "0",
          "max": "38408",
          "histogram": [
           {
            "bin_start": 0,
            "bin_end": 3840.8,
            "count": 45
           },
           {
            "bin_start": 3840.8,
            "bin_end": 7681.6,
            "count": 1
           },
           {
            "bin_start": 7681.6,
            "bin_end": 11522.400000000001,
            "count": 0
           },
           {
            "bin_start": 11522.400000000001,
            "bin_end": 15363.2,
            "count": 0
           },
           {
            "bin_start": 15363.2,
            "bin_end": 19204,
            "count": 0
           },
           {
            "bin_start": 19204,
            "bin_end": 23044.800000000003,
            "count": 0
           },
           {
            "bin_start": 23044.800000000003,
            "bin_end": 26885.600000000002,
            "count": 0
           },
           {
            "bin_start": 26885.600000000002,
            "bin_end": 30726.4,
            "count": 0
           },
           {
            "bin_start": 30726.4,
            "bin_end": 34567.200000000004,
            "count": 1
           },
           {
            "bin_start": 34567.200000000004,
            "bin_end": 38408,
            "count": 1
           }
          ]
         }
        },
        {
         "name": 3,
         "dtype": "int64",
         "stats": {
          "unique_count": 31,
          "nan_count": 0,
          "min": "0",
          "max": "38577",
          "histogram": [
           {
            "bin_start": 0,
            "bin_end": 3857.7,
            "count": 45
           },
           {
            "bin_start": 3857.7,
            "bin_end": 7715.4,
            "count": 1
           },
           {
            "bin_start": 7715.4,
            "bin_end": 11573.099999999999,
            "count": 0
           },
           {
            "bin_start": 11573.099999999999,
            "bin_end": 15430.8,
            "count": 0
           },
           {
            "bin_start": 15430.8,
            "bin_end": 19288.5,
            "count": 0
           },
           {
            "bin_start": 19288.5,
            "bin_end": 23146.199999999997,
            "count": 0
           },
           {
            "bin_start": 23146.199999999997,
            "bin_end": 27003.899999999998,
            "count": 0
           },
           {
            "bin_start": 27003.899999999998,
            "bin_end": 30861.6,
            "count": 1
           },
           {
            "bin_start": 30861.6,
            "bin_end": 34719.299999999996,
            "count": 0
           },
           {
            "bin_start": 34719.299999999996,
            "bin_end": 38577,
            "count": 1
           }
          ]
         }
        },
        {
         "name": 4,
         "dtype": "int64",
         "stats": {
          "unique_count": 26,
          "nan_count": 0,
          "min": "0",
          "max": "38747",
          "histogram": [
           {
            "bin_start": 0,
            "bin_end": 3874.7,
            "count": 46
           },
           {
            "bin_start": 3874.7,
            "bin_end": 7749.4,
            "count": 0
           },
           {
            "bin_start": 7749.4,
            "bin_end": 11624.099999999999,
            "count": 0
           },
           {
            "bin_start": 11624.099999999999,
            "bin_end": 15498.8,
            "count": 0
           },
           {
            "bin_start": 15498.8,
            "bin_end": 19373.5,
            "count": 0
           },
           {
            "bin_start": 19373.5,
            "bin_end": 23248.199999999997,
            "count": 0
           },
           {
            "bin_start": 23248.199999999997,
            "bin_end": 27122.899999999998,
            "count": 0
           },
           {
            "bin_start": 27122.899999999998,
            "bin_end": 30997.6,
            "count": 0
           },
           {
            "bin_start": 30997.6,
            "bin_end": 34872.299999999996,
            "count": 0
           },
           {
            "bin_start": 34872.299999999996,
            "bin_end": 38747,
            "count": 2
           }
          ]
         }
        },
        {
         "name": "All",
         "dtype": "int64",
         "stats": {
          "unique_count": 41,
          "nan_count": 0,
          "min": "1",
          "max": "165474",
          "histogram": [
           {
            "bin_start": 1,
            "bin_end": 16548.3,
            "count": 45
           },
           {
            "bin_start": 16548.3,
            "bin_end": 33095.6,
            "count": 1
           },
           {
            "bin_start": 33095.6,
            "bin_end": 49642.899999999994,
            "count": 0
           },
           {
            "bin_start": 49642.899999999994,
            "bin_end": 66190.2,
            "count": 0
           },
           {
            "bin_start": 66190.2,
            "bin_end": 82737.5,
            "count": 0
           },
           {
            "bin_start": 82737.5,
            "bin_end": 99284.79999999999,
            "count": 0
           },
           {
            "bin_start": 99284.79999999999,
            "bin_end": 115832.09999999999,
            "count": 0
           },
           {
            "bin_start": 115832.09999999999,
            "bin_end": 132379.4,
            "count": 0
           },
           {
            "bin_start": 132379.4,
            "bin_end": 148926.69999999998,
            "count": 1
           },
           {
            "bin_start": 148926.69999999998,
            "bin_end": 165474,
            "count": 1
           }
          ]
         }
        },
        {
         "name": "_deepnote_index_column",
         "dtype": "object"
        }
       ],
       "rows_top": [
        {
         "1": 0,
         "2": 0,
         "3": 1,
         "4": 2,
         "All": 3,
         "_deepnote_index_column": "1"
        },
        {
         "1": 18,
         "2": 18,
         "3": 17,
         "4": 5,
         "All": 58,
         "_deepnote_index_column": "2"
        },
        {
         "1": 40,
         "2": 24,
         "3": 91,
         "4": 101,
         "All": 256,
         "_deepnote_index_column": "3"
        },
        {
         "1": 0,
         "2": 1,
         "3": 0,
         "4": 0,
         "All": 1,
         "_deepnote_index_column": "4"
        },
        {
         "1": 2,
         "2": 0,
         "3": 1,
         "4": 1,
         "All": 4,
         "_deepnote_index_column": "5"
        },
        {
         "1": 0,
         "2": 4,
         "3": 1,
         "4": 0,
         "All": 5,
         "_deepnote_index_column": "6"
        },
        {
         "1": 2,
         "2": 2,
         "3": 5,
         "4": 0,
         "All": 9,
         "_deepnote_index_column": "7"
        },
        {
         "1": 0,
         "2": 0,
         "3": 1,
         "4": 0,
         "All": 1,
         "_deepnote_index_column": "8"
        },
        {
         "1": 8262,
         "2": 4103,
         "3": 5531,
         "4": 107,
         "All": 18003,
         "_deepnote_index_column": "9"
        },
        {
         "1": 62,
         "2": 26,
         "3": 40,
         "4": 24,
         "All": 152,
         "_deepnote_index_column": "10"
        },
        {
         "1": 48,
         "2": 32,
         "3": 34,
         "4": 1,
         "All": 115,
         "_deepnote_index_column": "11"
        },
        {
         "1": 84,
         "2": 45,
         "3": 29,
         "4": 52,
         "All": 210,
         "_deepnote_index_column": "12"
        },
        {
         "1": 2,
         "2": 0,
         "3": 0,
         "4": 0,
         "All": 2,
         "_deepnote_index_column": "13"
        },
        {
         "1": 15,
         "2": 24,
         "3": 4,
         "4": 0,
         "All": 43,
         "_deepnote_index_column": "14"
        },
        {
         "1": 49,
         "2": 29,
         "3": 33,
         "4": 14,
         "All": 125,
         "_deepnote_index_column": "15"
        },
        {
         "1": 237,
         "2": 222,
         "3": 188,
         "4": 187,
         "All": 834,
         "_deepnote_index_column": "16"
        },
        {
         "1": 5,
         "2": 13,
         "3": 3,
         "4": 2,
         "All": 23,
         "_deepnote_index_column": "17"
        },
        {
         "1": 0,
         "2": 4,
         "3": 2,
         "4": 12,
         "All": 18,
         "_deepnote_index_column": "18"
        },
        {
         "1": 3,
         "2": 0,
         "3": 8,
         "4": 18,
         "All": 29,
         "_deepnote_index_column": "19"
        },
        {
         "1": 0,
         "2": 3,
         "3": 7,
         "4": 0,
         "All": 10,
         "_deepnote_index_column": "20"
        },
        {
         "1": 213,
         "2": 121,
         "3": 238,
         "4": 239,
         "All": 811,
         "_deepnote_index_column": "21"
        },
        {
         "1": 64,
         "2": 45,
         "3": 22,
         "4": 13,
         "All": 144,
         "_deepnote_index_column": "22"
        },
        {
         "1": 34,
         "2": 1,
         "3": 8,
         "4": 3,
         "All": 46,
         "_deepnote_index_column": "23"
        },
        {
         "1": 1352,
         "2": 885,
         "3": 997,
         "4": 857,
         "All": 4091,
         "_deepnote_index_column": "24"
        },
        {
         "1": 5,
         "2": 5,
         "3": 9,
         "4": 52,
         "All": 71,
         "_deepnote_index_column": "25"
        },
        {
         "1": 0,
         "2": 2,
         "3": 0,
         "4": 0,
         "All": 2,
         "_deepnote_index_column": "26"
        },
        {
         "1": 57,
         "2": 51,
         "3": 76,
         "4": 43,
         "All": 227,
         "_deepnote_index_column": "27"
        },
        {
         "1": 58,
         "2": 29,
         "3": 30,
         "4": 22,
         "All": 139,
         "_deepnote_index_column": "28"
        },
        {
         "1": 37145,
         "2": 31123,
         "3": 29611,
         "4": 36084,
         "All": 133963,
         "_deepnote_index_column": "29"
        },
        {
         "1": 0,
         "2": 0,
         "3": 0,
         "4": 5,
         "All": 5,
         "_deepnote_index_column": "30"
        },
        {
         "1": 15,
         "2": 74,
         "3": 38,
         "4": 17,
         "All": 144,
         "_deepnote_index_column": "31"
        },
        {
         "1": 21,
         "2": 6,
         "3": 8,
         "4": 14,
         "All": 49,
         "_deepnote_index_column": "32"
        },
        {
         "1": 1,
         "2": 0,
         "3": 0,
         "4": 2,
         "All": 3,
         "_deepnote_index_column": "33"
        },
        {
         "1": 244,
         "2": 167,
         "3": 267,
         "4": 38,
         "All": 716,
         "_deepnote_index_column": "34"
        },
        {
         "1": 1,
         "2": 0,
         "3": 1,
         "4": 1,
         "All": 3,
         "_deepnote_index_column": "35"
        },
        {
         "1": 0,
         "2": 11,
         "3": 7,
         "4": 1,
         "All": 19,
         "_deepnote_index_column": "36"
        },
        {
         "1": 38,
         "2": 28,
         "3": 40,
         "4": 57,
         "All": 163,
         "_deepnote_index_column": "37"
        },
        {
         "1": 43,
         "2": 32,
         "3": 49,
         "4": 13,
         "All": 137,
         "_deepnote_index_column": "38"
        },
        {
         "1": 10,
         "2": 18,
         "3": 3,
         "4": 3,
         "All": 34,
         "_deepnote_index_column": "39"
        },
        {
         "1": 0,
         "2": 1,
         "3": 0,
         "4": 0,
         "All": 1,
         "_deepnote_index_column": "40"
        },
        {
         "1": 199,
         "2": 173,
         "3": 161,
         "4": 151,
         "All": 684,
         "_deepnote_index_column": "41"
        },
        {
         "1": 72,
         "2": 32,
         "3": 44,
         "4": 22,
         "All": 170,
         "_deepnote_index_column": "42"
        },
        {
         "1": 15,
         "2": 12,
         "3": 2,
         "4": 2,
         "All": 31,
         "_deepnote_index_column": "43"
        },
        {
         "1": 453,
         "2": 332,
         "3": 349,
         "4": 251,
         "All": 1385,
         "_deepnote_index_column": "44"
        },
        {
         "1": 1,
         "2": 0,
         "3": 3,
         "4": 2,
         "All": 6,
         "_deepnote_index_column": "45"
        },
        {
         "1": 869,
         "2": 709,
         "3": 615,
         "4": 329,
         "All": 2522,
         "_deepnote_index_column": "46"
        },
        {
         "1": 3,
         "2": 1,
         "3": 3,
         "4": 0,
         "All": 7,
         "_deepnote_index_column": "47"
        },
        {
         "1": 49742,
         "2": 38408,
         "3": 38577,
         "4": 38747,
         "All": 165474,
         "_deepnote_index_column": "All"
        }
       ],
       "rows_bottom": null
      },
      "text/plain": "page1        1      2      3      4     All\ncountry                                    \n1            0      0      1      2       3\n2           18     18     17      5      58\n3           40     24     91    101     256\n4            0      1      0      0       1\n5            2      0      1      1       4\n6            0      4      1      0       5\n7            2      2      5      0       9\n8            0      0      1      0       1\n9         8262   4103   5531    107   18003\n10          62     26     40     24     152\n11          48     32     34      1     115\n12          84     45     29     52     210\n13           2      0      0      0       2\n14          15     24      4      0      43\n15          49     29     33     14     125\n16         237    222    188    187     834\n17           5     13      3      2      23\n18           0      4      2     12      18\n19           3      0      8     18      29\n20           0      3      7      0      10\n21         213    121    238    239     811\n22          64     45     22     13     144\n23          34      1      8      3      46\n24        1352    885    997    857    4091\n25           5      5      9     52      71\n26           0      2      0      0       2\n27          57     51     76     43     227\n28          58     29     30     22     139\n29       37145  31123  29611  36084  133963\n30           0      0      0      5       5\n31          15     74     38     17     144\n32          21      6      8     14      49\n33           1      0      0      2       3\n34         244    167    267     38     716\n35           1      0      1      1       3\n36           0     11      7      1      19\n37          38     28     40     57     163\n38          43     32     49     13     137\n39          10     18      3      3      34\n40           0      1      0      0       1\n41         199    173    161    151     684\n42          72     32     44     22     170\n43          15     12      2      2      31\n44         453    332    349    251    1385\n45           1      0      3      2       6\n46         869    709    615    329    2522\n47           3      1      3      0       7\nAll      49742  38408  38577  38747  165474",
      "text/html": "<div>\n<style scoped>\n    .dataframe tbody tr th:only-of-type {\n        vertical-align: middle;\n    }\n\n    .dataframe tbody tr th {\n        vertical-align: top;\n    }\n\n    .dataframe thead th {\n        text-align: right;\n    }\n</style>\n<table border=\"1\" class=\"dataframe\">\n  <thead>\n    <tr style=\"text-align: right;\">\n      <th>page1</th>\n      <th>1</th>\n      <th>2</th>\n      <th>3</th>\n      <th>4</th>\n      <th>All</th>\n    </tr>\n    <tr>\n      <th>country</th>\n      <th></th>\n      <th></th>\n      <th></th>\n      <th></th>\n      <th></th>\n    </tr>\n  </thead>\n  <tbody>\n    <tr>\n      <th>1</th>\n      <td>0</td>\n      <td>0</td>\n      <td>1</td>\n      <td>2</td>\n      <td>3</td>\n    </tr>\n    <tr>\n      <th>2</th>\n      <td>18</td>\n      <td>18</td>\n      <td>17</td>\n      <td>5</td>\n      <td>58</td>\n    </tr>\n    <tr>\n      <th>3</th>\n      <td>40</td>\n      <td>24</td>\n      <td>91</td>\n      <td>101</td>\n      <td>256</td>\n    </tr>\n    <tr>\n      <th>4</th>\n      <td>0</td>\n      <td>1</td>\n      <td>0</td>\n      <td>0</td>\n      <td>1</td>\n    </tr>\n    <tr>\n      <th>5</th>\n      <td>2</td>\n      <td>0</td>\n      <td>1</td>\n      <td>1</td>\n      <td>4</td>\n    </tr>\n    <tr>\n      <th>6</th>\n      <td>0</td>\n      <td>4</td>\n      <td>1</td>\n      <td>0</td>\n      <td>5</td>\n    </tr>\n    <tr>\n      <th>7</th>\n      <td>2</td>\n      <td>2</td>\n      <td>5</td>\n      <td>0</td>\n      <td>9</td>\n    </tr>\n    <tr>\n      <th>8</th>\n      <td>0</td>\n      <td>0</td>\n      <td>1</td>\n      <td>0</td>\n      <td>1</td>\n    </tr>\n    <tr>\n      <th>9</th>\n      <td>8262</td>\n      <td>4103</td>\n      <td>5531</td>\n      <td>107</td>\n      <td>18003</td>\n    </tr>\n    <tr>\n      <th>10</th>\n      <td>62</td>\n      <td>26</td>\n      <td>40</td>\n      <td>24</td>\n      <td>152</td>\n    </tr>\n    <tr>\n      <th>11</th>\n      <td>48</td>\n      <td>32</td>\n      <td>34</td>\n      <td>1</td>\n      <td>115</td>\n    </tr>\n    <tr>\n      <th>12</th>\n      <td>84</td>\n      <td>45</td>\n      <td>29</td>\n      <td>52</td>\n      <td>210</td>\n    </tr>\n    <tr>\n      <th>13</th>\n      <td>2</td>\n      <td>0</td>\n      <td>0</td>\n      <td>0</td>\n      <td>2</td>\n    </tr>\n    <tr>\n      <th>14</th>\n      <td>15</td>\n      <td>24</td>\n      <td>4</td>\n      <td>0</td>\n      <td>43</td>\n    </tr>\n    <tr>\n      <th>15</th>\n      <td>49</td>\n      <td>29</td>\n      <td>33</td>\n      <td>14</td>\n      <td>125</td>\n    </tr>\n    <tr>\n      <th>16</th>\n      <td>237</td>\n      <td>222</td>\n      <td>188</td>\n      <td>187</td>\n      <td>834</td>\n    </tr>\n    <tr>\n      <th>17</th>\n      <td>5</td>\n      <td>13</td>\n      <td>3</td>\n      <td>2</td>\n      <td>23</td>\n    </tr>\n    <tr>\n      <th>18</th>\n      <td>0</td>\n      <td>4</td>\n      <td>2</td>\n      <td>12</td>\n      <td>18</td>\n    </tr>\n    <tr>\n      <th>19</th>\n      <td>3</td>\n      <td>0</td>\n      <td>8</td>\n      <td>18</td>\n      <td>29</td>\n    </tr>\n    <tr>\n      <th>20</th>\n      <td>0</td>\n      <td>3</td>\n      <td>7</td>\n      <td>0</td>\n      <td>10</td>\n    </tr>\n    <tr>\n      <th>21</th>\n      <td>213</td>\n      <td>121</td>\n      <td>238</td>\n      <td>239</td>\n      <td>811</td>\n    </tr>\n    <tr>\n      <th>22</th>\n      <td>64</td>\n      <td>45</td>\n      <td>22</td>\n      <td>13</td>\n      <td>144</td>\n    </tr>\n    <tr>\n      <th>23</th>\n      <td>34</td>\n      <td>1</td>\n      <td>8</td>\n      <td>3</td>\n      <td>46</td>\n    </tr>\n    <tr>\n      <th>24</th>\n      <td>1352</td>\n      <td>885</td>\n      <td>997</td>\n      <td>857</td>\n      <td>4091</td>\n    </tr>\n    <tr>\n      <th>25</th>\n      <td>5</td>\n      <td>5</td>\n      <td>9</td>\n      <td>52</td>\n      <td>71</td>\n    </tr>\n    <tr>\n      <th>26</th>\n      <td>0</td>\n      <td>2</td>\n      <td>0</td>\n      <td>0</td>\n      <td>2</td>\n    </tr>\n    <tr>\n      <th>27</th>\n      <td>57</td>\n      <td>51</td>\n      <td>76</td>\n      <td>43</td>\n      <td>227</td>\n    </tr>\n    <tr>\n      <th>28</th>\n      <td>58</td>\n      <td>29</td>\n      <td>30</td>\n      <td>22</td>\n      <td>139</td>\n    </tr>\n    <tr>\n      <th>29</th>\n      <td>37145</td>\n      <td>31123</td>\n      <td>29611</td>\n      <td>36084</td>\n      <td>133963</td>\n    </tr>\n    <tr>\n      <th>30</th>\n      <td>0</td>\n      <td>0</td>\n      <td>0</td>\n      <td>5</td>\n      <td>5</td>\n    </tr>\n    <tr>\n      <th>31</th>\n      <td>15</td>\n      <td>74</td>\n      <td>38</td>\n      <td>17</td>\n      <td>144</td>\n    </tr>\n    <tr>\n      <th>32</th>\n      <td>21</td>\n      <td>6</td>\n      <td>8</td>\n      <td>14</td>\n      <td>49</td>\n    </tr>\n    <tr>\n      <th>33</th>\n      <td>1</td>\n      <td>0</td>\n      <td>0</td>\n      <td>2</td>\n      <td>3</td>\n    </tr>\n    <tr>\n      <th>34</th>\n      <td>244</td>\n      <td>167</td>\n      <td>267</td>\n      <td>38</td>\n      <td>716</td>\n    </tr>\n    <tr>\n      <th>35</th>\n      <td>1</td>\n      <td>0</td>\n      <td>1</td>\n      <td>1</td>\n      <td>3</td>\n    </tr>\n    <tr>\n      <th>36</th>\n      <td>0</td>\n      <td>11</td>\n      <td>7</td>\n      <td>1</td>\n      <td>19</td>\n    </tr>\n    <tr>\n      <th>37</th>\n      <td>38</td>\n      <td>28</td>\n      <td>40</td>\n      <td>57</td>\n      <td>163</td>\n    </tr>\n    <tr>\n      <th>38</th>\n      <td>43</td>\n      <td>32</td>\n      <td>49</td>\n      <td>13</td>\n      <td>137</td>\n    </tr>\n    <tr>\n      <th>39</th>\n      <td>10</td>\n      <td>18</td>\n      <td>3</td>\n      <td>3</td>\n      <td>34</td>\n    </tr>\n    <tr>\n      <th>40</th>\n      <td>0</td>\n      <td>1</td>\n      <td>0</td>\n      <td>0</td>\n      <td>1</td>\n    </tr>\n    <tr>\n      <th>41</th>\n      <td>199</td>\n      <td>173</td>\n      <td>161</td>\n      <td>151</td>\n      <td>684</td>\n    </tr>\n    <tr>\n      <th>42</th>\n      <td>72</td>\n      <td>32</td>\n      <td>44</td>\n      <td>22</td>\n      <td>170</td>\n    </tr>\n    <tr>\n      <th>43</th>\n      <td>15</td>\n      <td>12</td>\n      <td>2</td>\n      <td>2</td>\n      <td>31</td>\n    </tr>\n    <tr>\n      <th>44</th>\n      <td>453</td>\n      <td>332</td>\n      <td>349</td>\n      <td>251</td>\n      <td>1385</td>\n    </tr>\n    <tr>\n      <th>45</th>\n      <td>1</td>\n      <td>0</td>\n      <td>3</td>\n      <td>2</td>\n      <td>6</td>\n    </tr>\n    <tr>\n      <th>46</th>\n      <td>869</td>\n      <td>709</td>\n      <td>615</td>\n      <td>329</td>\n      <td>2522</td>\n    </tr>\n    <tr>\n      <th>47</th>\n      <td>3</td>\n      <td>1</td>\n      <td>3</td>\n      <td>0</td>\n      <td>7</td>\n    </tr>\n    <tr>\n      <th>All</th>\n      <td>49742</td>\n      <td>38408</td>\n      <td>38577</td>\n      <td>38747</td>\n      <td>165474</td>\n    </tr>\n  </tbody>\n</table>\n</div>"
     },
     "metadata": {}
    }
   ]
  },
  {
   "cell_type": "markdown",
   "source": "* Countries 9, 24, and 29 have the most items of the dataset\n* In country 9 type 1 is the largest, in country 24 as well, in country 29 all item types are evently disctributed\n* 9-Czech Republic, 24-Lithuania, 29-Poland\n* 1-trousers, 2-skirts, 3-blouses, 4-sale\n* Thus, in CR and Lithuania trousers are more clicked, in Poland all items are clicked evenly\n ",
   "metadata": {
    "tags": [],
    "cell_id": "00011-d0e0ae38-f0a6-4085-9dd9-2970b28dc1a8",
    "deepnote_cell_type": "markdown"
   }
  },
  {
   "cell_type": "code",
   "metadata": {
    "tags": [],
    "cell_id": "00012-4b31ca22-bb5e-4ceb-9fc8-a3c159dee48f",
    "deepnote_to_be_reexecuted": false,
    "source_hash": "297e45e9",
    "execution_start": 1638719685225,
    "execution_millis": 751,
    "deepnote_output_heights": [
     21.1875,
     591
    ],
    "deepnote_cell_type": "code"
   },
   "source": "df['price-bin'] = pd.cut(df['price'], [0,20,40,60,80])\n\nfig = plt.figure(figsize=(20,10))\nsns.countplot(x='price-bin', hue = 'colour', data = df)",
   "execution_count": null,
   "outputs": [
    {
     "output_type": "execute_result",
     "execution_count": 9,
     "data": {
      "text/plain": "<AxesSubplot:xlabel='price-bin', ylabel='count'>"
     },
     "metadata": {}
    },
    {
     "data": {
      "text/plain": "<Figure size 1440x720 with 1 Axes>",
      "image/png": "[encoded data removed]"
     },
     "metadata": {
      "needs_background": "light",
      "image/png": {
       "width": 1182,
       "height": 589
      }
     },
     "output_type": "display_data"
    }
   ]
  },
  {
   "cell_type": "markdown",
   "source": "* Colours with code numbers 2,3 are the most clickable\n* When the price range is from 0 to 20, items seem to not be very popular\n* Colours 6 and 14 are very clickable when the price range is from 20 to 40\n* Colours 10 and 14 are very clickable when the price range is from 40 to 60\n* The most expensive items as well popular in colours of 2 and 3",
   "metadata": {
    "tags": [],
    "cell_id": "00013-a1209f64-5a16-444a-8055-8afb9f758b20",
    "deepnote_cell_type": "markdown"
   }
  },
  {
   "cell_type": "code",
   "metadata": {
    "tags": [],
    "cell_id": "00016-b108cacd-ed1b-4301-b2ea-1e97e742a7c3",
    "deepnote_to_be_reexecuted": false,
    "source_hash": "2a4c631a",
    "execution_start": 1638719685985,
    "execution_millis": 187,
    "deepnote_cell_type": "code"
   },
   "source": "#building decision tree to predict order of clicks\n\nfrom sklearn.tree import DecisionTreeClassifier \nfrom sklearn.model_selection import train_test_split \nfrom sklearn import metrics ",
   "execution_count": null,
   "outputs": []
  },
  {
   "cell_type": "code",
   "metadata": {
    "tags": [],
    "cell_id": "00015-5a00d313-3033-4309-9984-d2bcb0492796",
    "deepnote_to_be_reexecuted": false,
    "source_hash": "ba3943ad",
    "execution_start": 1638719686184,
    "execution_millis": 2,
    "deepnote_cell_type": "code"
   },
   "source": "feature_cols = ['price', 'colour', 'location','page1','model photography' ]\nX = df[feature_cols] # Features\ny = df.order # Target variable",
   "execution_count": null,
   "outputs": []
  },
  {
   "cell_type": "code",
   "metadata": {
    "tags": [],
    "cell_id": "00017-fb14ed9d-3744-4e3f-a15c-db4ba4b18de2",
    "deepnote_to_be_reexecuted": false,
    "source_hash": "b00bebac",
    "execution_start": 1638719686200,
    "execution_millis": 10,
    "deepnote_cell_type": "code"
   },
   "source": "# 70% training and 30% test\nX_train, X_test, y_train, y_test = train_test_split(X, y, test_size=0.3, random_state=1) ",
   "execution_count": null,
   "outputs": []
  },
  {
   "cell_type": "code",
   "metadata": {
    "tags": [],
    "cell_id": "00018-f6439b37-0fce-42ef-a61f-15c28c873962",
    "deepnote_to_be_reexecuted": false,
    "source_hash": "d25a7db6",
    "execution_start": 1638719686223,
    "execution_millis": 156,
    "deepnote_cell_type": "code"
   },
   "source": "clf = DecisionTreeClassifier(criterion=\"entropy\", max_depth=6)\nclf = clf.fit(X_train,y_train)\ny_pred = clf.predict(X_test)",
   "execution_count": null,
   "outputs": []
  },
  {
   "cell_type": "code",
   "metadata": {
    "tags": [],
    "cell_id": "00019-0b0df989-c543-40a6-a37e-24992c1c850a",
    "deepnote_to_be_reexecuted": false,
    "source_hash": "1465530c",
    "execution_start": 1638719686389,
    "execution_millis": 9,
    "deepnote_cell_type": "code"
   },
   "source": "#checking the model accuracy\nprint(\"Accuracy:\",metrics.accuracy_score(y_test, y_pred))",
   "execution_count": null,
   "outputs": [
    {
     "name": "stdout",
     "text": "Accuracy: 0.14692907358539975\n",
     "output_type": "stream"
    }
   ]
  },
  {
   "cell_type": "code",
   "metadata": {
    "tags": [],
    "cell_id": "00022-d328f659-ce86-474c-8a49-93f9d3dc0cbd",
    "deepnote_to_be_reexecuted": false,
    "source_hash": "559f2b1b",
    "execution_start": 1638719686414,
    "execution_millis": 4,
    "deepnote_cell_type": "code"
   },
   "source": "# Saving the model\nimport pickle\n\npickle.dump(clf, open('clicks_clf.pkl', 'wb'))",
   "execution_count": null,
   "outputs": []
  },
  {
   "cell_type": "code",
   "metadata": {
    "tags": [],
    "cell_id": "00020-167f7ba3-436d-42a8-b568-62a3edfe8acd",
    "deepnote_to_be_reexecuted": false,
    "source_hash": "d50fcd23",
    "execution_start": 1638719686432,
    "execution_millis": 189,
    "deepnote_output_heights": [
     170.484375
    ],
    "deepnote_cell_type": "code"
   },
   "source": "from sklearn.tree import export_graphviz\nfrom six import StringIO \nfrom IPython.display import Image  \nimport pydotplus\n\ndot_data = StringIO()\nexport_graphviz(clf, out_file=dot_data,  \n                filled=True, rounded=True,\n                special_characters=True,feature_names = feature_cols)\ngraph = pydotplus.graph_from_dot_data(dot_data.getvalue())  \ngraph.write_png('orders.png')\nImage(graph.create_png())",
   "execution_count": null,
   "outputs": [
    {
     "output_type": "error",
     "ename": "ModuleNotFoundError",
     "evalue": "No module named 'pydotplus'",
     "traceback": [
      "\u001b[0;31m---------------------------------------------------------------------------\u001b[0m",
      "\u001b[0;31mModuleNotFoundError\u001b[0m                       Traceback (most recent call last)",
      "\u001b[0;32m<ipython-input-16-b93dd30ccdb9>\u001b[0m in \u001b[0;36m<module>\u001b[0;34m\u001b[0m\n\u001b[1;32m      2\u001b[0m \u001b[0;32mfrom\u001b[0m \u001b[0msix\u001b[0m \u001b[0;32mimport\u001b[0m \u001b[0mStringIO\u001b[0m\u001b[0;34m\u001b[0m\u001b[0;34m\u001b[0m\u001b[0m\n\u001b[1;32m      3\u001b[0m \u001b[0;32mfrom\u001b[0m \u001b[0mIPython\u001b[0m\u001b[0;34m.\u001b[0m\u001b[0mdisplay\u001b[0m \u001b[0;32mimport\u001b[0m \u001b[0mImage\u001b[0m\u001b[0;34m\u001b[0m\u001b[0;34m\u001b[0m\u001b[0m\n\u001b[0;32m----> 4\u001b[0;31m \u001b[0;32mimport\u001b[0m \u001b[0mpydotplus\u001b[0m\u001b[0;34m\u001b[0m\u001b[0;34m\u001b[0m\u001b[0m\n\u001b[0m\u001b[1;32m      5\u001b[0m \u001b[0;34m\u001b[0m\u001b[0m\n\u001b[1;32m      6\u001b[0m \u001b[0mdot_data\u001b[0m \u001b[0;34m=\u001b[0m \u001b[0mStringIO\u001b[0m\u001b[0;34m(\u001b[0m\u001b[0;34m)\u001b[0m\u001b[0;34m\u001b[0m\u001b[0;34m\u001b[0m\u001b[0m\n",
      "\u001b[0;31mModuleNotFoundError\u001b[0m: No module named 'pydotplus'"
     ]
    }
   ]
  },
  {
   "cell_type": "markdown",
   "source": "##### TODO:\n1. Reduce the target variable to 23 (now we have 195) \n2. Train the decision tree again on new amount of feature values of the target.\n3. Train the random forest model.\n4. Create some graphs for the dashboard (static images from PowerBI + explanations).\n5. Create the dashboard (Mykola). \n6. Create the presentation.",
   "metadata": {
    "tags": [],
    "cell_id": "00023-604bcdce-ab73-4c25-bdf7-f4489cde393a",
    "deepnote_cell_type": "markdown"
   }
  },
  {
   "cell_type": "code",
   "metadata": {
    "tags": [],
    "cell_id": "00024-e2c321b0-e602-48ee-9701-02ccfb15a87c",
    "deepnote_to_be_reexecuted": true,
    "source_hash": "b16db74d",
    "execution_start": 1638550797582,
    "execution_millis": 220,
    "deepnote_cell_type": "code"
   },
   "source": "# df = df[df['order'] < 23]",
   "execution_count": null,
   "outputs": [
    {
     "output_type": "error",
     "ename": "NameError",
     "evalue": "name 'df' is not defined",
     "traceback": [
      "\u001b[0;31m---------------------------------------------------------------------------\u001b[0m",
      "\u001b[0;31mNameError\u001b[0m                                 Traceback (most recent call last)",
      "\u001b[0;32m<ipython-input-1-5293d288d1e7>\u001b[0m in \u001b[0;36m<module>\u001b[0;34m\u001b[0m\n\u001b[0;32m----> 1\u001b[0;31m \u001b[0mdf\u001b[0m \u001b[0;34m=\u001b[0m \u001b[0mdf\u001b[0m\u001b[0;34m[\u001b[0m\u001b[0mdf\u001b[0m\u001b[0;34m[\u001b[0m\u001b[0;34m'order'\u001b[0m\u001b[0;34m]\u001b[0m \u001b[0;34m<\u001b[0m \u001b[0;36m23\u001b[0m\u001b[0;34m]\u001b[0m\u001b[0;34m\u001b[0m\u001b[0;34m\u001b[0m\u001b[0m\n\u001b[0m",
      "\u001b[0;31mNameError\u001b[0m: name 'df' is not defined"
     ]
    }
   ]
  },
  {
   "cell_type": "markdown",
   "source": "<a style='text-decoration:none;line-height:16px;display:flex;color:#5B5B62;padding:10px;justify-content:end;' href='https://deepnote.com?utm_source=created-in-deepnote-cell&projectId=eca1cb58-52ce-4ebe-9e88-ee0d251926b8' target=\"_blank\">\n<img alt='Created in deepnote.com' style='display:inline;max-height:16px;margin:0px;margin-right:7.5px;' src='data:image/svg+xml;base64,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' > </img>\nCreated in <span style='font-weight:600;margin-left:4px;'>Deepnote</span></a>",
   "metadata": {
    "tags": [],
    "created_in_deepnote_cell": true,
    "deepnote_cell_type": "markdown"
   }
  }
 ],
 "nbformat": 4,
 "nbformat_minor": 2,
 "metadata": {
  "orig_nbformat": 2,
  "deepnote": {
   "is_reactive": false
  },
  "deepnote_notebook_id": "393d4f6e-cedc-4de7-9a70-5e1b628bc2a6",
  "deepnote_execution_queue": []
 }
}